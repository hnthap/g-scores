{
 "cells": [
  {
   "cell_type": "code",
   "execution_count": 1,
   "metadata": {},
   "outputs": [
    {
     "name": "stdout",
     "output_type": "stream",
     "text": [
      "python 3.12.3 | packaged by conda-forge | (main, Apr 15 2024, 18:20:11) [MSC v.1938 64 bit (AMD64)]\n",
      "polars 1.21.0\n"
     ]
    }
   ],
   "source": [
    "!python -c \"import sys; import polars as pl; print('python', sys.version); print('polars', pl.__version__);\""
   ]
  },
  {
   "cell_type": "code",
   "execution_count": 2,
   "metadata": {},
   "outputs": [],
   "source": [
    "import os\n",
    "import urllib.request\n",
    "\n",
    "import polars as pl"
   ]
  },
  {
   "cell_type": "code",
   "execution_count": 3,
   "metadata": {},
   "outputs": [],
   "source": [
    "# Download data\n",
    "\n",
    "scores_file = 'scores.csv'\n",
    "if not os.path.exists(scores_file):\n",
    "    urllib.request.urlretrieve(\n",
    "        'https://github.com/GoldenOwlAsia/webdev-intern-assignment-3/raw/refs/heads/main/dataset/diem_thi_thpt_2024.csv',\n",
    "        scores_file\n",
    "    )"
   ]
  },
  {
   "cell_type": "code",
   "execution_count": 4,
   "metadata": {},
   "outputs": [
    {
     "data": {
      "text/html": [
       "<div><style>\n",
       ".dataframe > thead > tr,\n",
       ".dataframe > tbody > tr {\n",
       "  text-align: right;\n",
       "  white-space: pre-wrap;\n",
       "}\n",
       "</style>\n",
       "<small>shape: (1_061_605, 11)</small><table border=\"1\" class=\"dataframe\"><thead><tr><th>sbd</th><th>toan</th><th>ngu_van</th><th>ngoai_ngu</th><th>vat_li</th><th>hoa_hoc</th><th>sinh_hoc</th><th>lich_su</th><th>dia_li</th><th>gdcd</th><th>ma_ngoai_ngu</th></tr><tr><td>str</td><td>f32</td><td>f32</td><td>f32</td><td>f32</td><td>f32</td><td>f32</td><td>f32</td><td>f32</td><td>f32</td><td>str</td></tr></thead><tbody><tr><td>&quot;01000001&quot;</td><td>8.4</td><td>6.75</td><td>8.0</td><td>6.0</td><td>5.25</td><td>5.0</td><td>null</td><td>null</td><td>null</td><td>&quot;N1&quot;</td></tr><tr><td>&quot;01000002&quot;</td><td>8.6</td><td>8.5</td><td>7.2</td><td>null</td><td>null</td><td>null</td><td>7.25</td><td>6.0</td><td>8.0</td><td>&quot;N1&quot;</td></tr><tr><td>&quot;01000003&quot;</td><td>8.2</td><td>8.75</td><td>8.2</td><td>null</td><td>null</td><td>null</td><td>7.25</td><td>7.25</td><td>8.75</td><td>&quot;N1&quot;</td></tr><tr><td>&quot;01000004&quot;</td><td>4.8</td><td>8.5</td><td>7.4</td><td>null</td><td>null</td><td>null</td><td>7.0</td><td>6.0</td><td>7.5</td><td>&quot;N1&quot;</td></tr><tr><td>&quot;01000005&quot;</td><td>8.6</td><td>9.0</td><td>7.8</td><td>null</td><td>null</td><td>null</td><td>9.0</td><td>8.75</td><td>8.5</td><td>&quot;N1&quot;</td></tr><tr><td>&hellip;</td><td>&hellip;</td><td>&hellip;</td><td>&hellip;</td><td>&hellip;</td><td>&hellip;</td><td>&hellip;</td><td>&hellip;</td><td>&hellip;</td><td>&hellip;</td><td>&hellip;</td></tr><tr><td>&quot;64007282&quot;</td><td>4.2</td><td>6.0</td><td>3.0</td><td>null</td><td>null</td><td>null</td><td>5.25</td><td>6.25</td><td>7.5</td><td>&quot;N1&quot;</td></tr><tr><td>&quot;64007283&quot;</td><td>5.2</td><td>6.0</td><td>3.6</td><td>null</td><td>null</td><td>null</td><td>6.25</td><td>5.75</td><td>7.75</td><td>&quot;N1&quot;</td></tr><tr><td>&quot;64007284&quot;</td><td>7.2</td><td>8.0</td><td>7.0</td><td>6.25</td><td>7.0</td><td>8.0</td><td>null</td><td>null</td><td>null</td><td>&quot;N1&quot;</td></tr><tr><td>&quot;64007285&quot;</td><td>5.2</td><td>5.25</td><td>4.4</td><td>null</td><td>null</td><td>null</td><td>4.75</td><td>6.5</td><td>8.75</td><td>&quot;N1&quot;</td></tr><tr><td>&quot;64007286&quot;</td><td>5.8</td><td>8.25</td><td>2.8</td><td>null</td><td>null</td><td>null</td><td>5.0</td><td>7.25</td><td>8.25</td><td>&quot;N1&quot;</td></tr></tbody></table></div>"
      ],
      "text/plain": [
       "shape: (1_061_605, 11)\n",
       "┌──────────┬──────┬─────────┬───────────┬───┬─────────┬────────┬──────┬──────────────┐\n",
       "│ sbd      ┆ toan ┆ ngu_van ┆ ngoai_ngu ┆ … ┆ lich_su ┆ dia_li ┆ gdcd ┆ ma_ngoai_ngu │\n",
       "│ ---      ┆ ---  ┆ ---     ┆ ---       ┆   ┆ ---     ┆ ---    ┆ ---  ┆ ---          │\n",
       "│ str      ┆ f32  ┆ f32     ┆ f32       ┆   ┆ f32     ┆ f32    ┆ f32  ┆ str          │\n",
       "╞══════════╪══════╪═════════╪═══════════╪═══╪═════════╪════════╪══════╪══════════════╡\n",
       "│ 01000001 ┆ 8.4  ┆ 6.75    ┆ 8.0       ┆ … ┆ null    ┆ null   ┆ null ┆ N1           │\n",
       "│ 01000002 ┆ 8.6  ┆ 8.5     ┆ 7.2       ┆ … ┆ 7.25    ┆ 6.0    ┆ 8.0  ┆ N1           │\n",
       "│ 01000003 ┆ 8.2  ┆ 8.75    ┆ 8.2       ┆ … ┆ 7.25    ┆ 7.25   ┆ 8.75 ┆ N1           │\n",
       "│ 01000004 ┆ 4.8  ┆ 8.5     ┆ 7.4       ┆ … ┆ 7.0     ┆ 6.0    ┆ 7.5  ┆ N1           │\n",
       "│ 01000005 ┆ 8.6  ┆ 9.0     ┆ 7.8       ┆ … ┆ 9.0     ┆ 8.75   ┆ 8.5  ┆ N1           │\n",
       "│ …        ┆ …    ┆ …       ┆ …         ┆ … ┆ …       ┆ …      ┆ …    ┆ …            │\n",
       "│ 64007282 ┆ 4.2  ┆ 6.0     ┆ 3.0       ┆ … ┆ 5.25    ┆ 6.25   ┆ 7.5  ┆ N1           │\n",
       "│ 64007283 ┆ 5.2  ┆ 6.0     ┆ 3.6       ┆ … ┆ 6.25    ┆ 5.75   ┆ 7.75 ┆ N1           │\n",
       "│ 64007284 ┆ 7.2  ┆ 8.0     ┆ 7.0       ┆ … ┆ null    ┆ null   ┆ null ┆ N1           │\n",
       "│ 64007285 ┆ 5.2  ┆ 5.25    ┆ 4.4       ┆ … ┆ 4.75    ┆ 6.5    ┆ 8.75 ┆ N1           │\n",
       "│ 64007286 ┆ 5.8  ┆ 8.25    ┆ 2.8       ┆ … ┆ 5.0     ┆ 7.25   ┆ 8.25 ┆ N1           │\n",
       "└──────────┴──────┴─────────┴───────────┴───┴─────────┴────────┴──────┴──────────────┘"
      ]
     },
     "execution_count": 4,
     "metadata": {},
     "output_type": "execute_result"
    }
   ],
   "source": [
    "# A little peek at the data\n",
    "\n",
    "df = pl.read_csv(\n",
    "    scores_file,\n",
    "    schema=pl.Schema({\n",
    "        'sbd': pl.String,\n",
    "        'toan': pl.Float32,\n",
    "        'ngu_van': pl.Float32,\n",
    "        'ngoai_ngu': pl.Float32,\n",
    "        'vat_li': pl.Float32,\n",
    "        'hoa_hoc': pl.Float32,\n",
    "        'sinh_hoc': pl.Float32,\n",
    "        'lich_su': pl.Float32,\n",
    "        'dia_li': pl.Float32,\n",
    "        'gdcd': pl.Float32,\n",
    "        'ma_ngoai_ngu': pl.String,\n",
    "    })\n",
    ")\n",
    "df"
   ]
  },
  {
   "cell_type": "code",
   "execution_count": 5,
   "metadata": {},
   "outputs": [
    {
     "data": {
      "text/plain": [
       "[None, 'N1', 'N2', 'N3', 'N4', 'N5', 'N6', 'N7']"
      ]
     },
     "execution_count": 5,
     "metadata": {},
     "output_type": "execute_result"
    }
   ],
   "source": [
    "df.select('ma_ngoai_ngu').to_series().unique().sort().to_list()"
   ]
  },
  {
   "cell_type": "code",
   "execution_count": 6,
   "metadata": {},
   "outputs": [],
   "source": [
    "df.write_csv(\n",
    "    '../db/raw/scores.csv',\n",
    "    separator=',',\n",
    "    line_terminator='\\n',\n",
    "    quote_char='\"',\n",
    "    null_value='\\\\N'\n",
    ")"
   ]
  }
 ],
 "metadata": {
  "kernelspec": {
   "display_name": "base",
   "language": "python",
   "name": "python3"
  },
  "language_info": {
   "codemirror_mode": {
    "name": "ipython",
    "version": 3
   },
   "file_extension": ".py",
   "mimetype": "text/x-python",
   "name": "python",
   "nbconvert_exporter": "python",
   "pygments_lexer": "ipython3",
   "version": "3.12.3"
  }
 },
 "nbformat": 4,
 "nbformat_minor": 2
}
